{
 "cells": [
  {
   "cell_type": "markdown",
   "metadata": {},
   "source": [
    "# Application of Machine Learning Techniques to Trading"
   ]
  },
  {
   "cell_type": "markdown",
   "metadata": {},
   "source": [
    "This post is inspired by our observations of some common caveats and pitfalls during the competition when trying to apply ML techniques to trading problems.\n",
    "Let’s look into how we can use ML to create a trade signal by data mining."
   ]
  },
  {
   "cell_type": "code",
   "execution_count": 1,
   "metadata": {},
   "outputs": [],
   "source": [
    "import scipy\n",
    "import sklearn\n",
    "import numpy as np\n",
    "import pandas as pd\n",
    "from datetime import datetime, timedelta\n",
    "import matplotlib.pyplot as plt\n",
    "import os"
   ]
  },
  {
   "cell_type": "markdown",
   "metadata": {},
   "source": [
    "To setup an ML framework, We create features which could have some predictive power (X), a target variable that we’d like to predict(Y) and use historical data to train a ML model that can predict Y as close as possible to the actual value. Finally, we use this model to make predictions on new data where Y is unknown."
   ]
  },
  {
   "cell_type": "markdown",
   "metadata": {},
   "source": [
    "## Step 1: Setup your problem\n",
    "\n",
    "We're going to use a problem from [QuantQuest](http://quant-quest.auquan.com/problem/qq2p1) for demo.\n",
    "We are going to create a prediction model that predicts future expected value of basis, where:\n",
    "\n",
    "$basis$ = Price of Stock - Price of Future\n",
    "\n",
    "$basis_t=S_t−F_t$\n",
    "\n",
    "$Y$ = future expected value of basis = $Average(basis_{(t+1)}, basis_{(t+2)}, basis_{(t+3)},basis_{(t+4)},basis_{(t+5)})$\n",
    "\n",
    "*Note Y(t) will only be known during a backtest, but when using our model live, we won’t know Price(t+1) at time t. We make a prediction Y(Predicted,t) using our model and compare it with actual value only at time t+1. **This means you cannot use Y as a feature in your predictive model)** *\n",
    "\n",
    "Since this is a regression problem, we will evaluate the model on RMSE. We’ll also use Total Pnl as an evaluation criterion\n",
    "\n",
    "$RMSE = \\sqrt{\\sum{(Y_{actual} - Y_{predicted})^2} / n} $\n",
    "\n",
    "Our Objective: Create a model so that predicted value is as close as possible to Y"
   ]
  },
  {
   "cell_type": "markdown",
   "metadata": {},
   "source": [
    "## Step 2: Collect Reliable Data\n",
    "\n",
    "We are using the folliwing data for our stock at minute interval data for trading days over one months(~8000 data points):\n",
    "Stock Bid Price, Ask Price, Bid Volume, Ask Volume \n",
    "Future Bid Price, Ask Price, Bid Volume, Ask Volume\n",
    "$Stock VWAP = {Bid Price*Ask Volume +  Ask Price*Bid Volume}/(Ask Volume +  Bid Volume)$\n",
    "Future VWAP\n",
    "\n",
    "Data is already cleaned for Dividends, Splits, Rolls"
   ]
  },
  {
   "cell_type": "code",
   "execution_count": 2,
   "metadata": {},
   "outputs": [],
   "source": [
    "from backtester.dataSource.csv_data_source import CsvDataSource"
   ]
  },
  {
   "cell_type": "code",
   "execution_count": 3,
   "metadata": {},
   "outputs": [
    {
     "name": "stdout",
     "output_type": "stream",
     "text": [
      "https://github.com/Auquan/auquan-historical-data/raw/master/qq2Data/trainingData1/stock_list.txt\n",
      "Downloading list of stocks to file: historicalData/trainingData1/stock_list.txt\n",
      "Processing data for stock: MQK\n",
      "Downloading MQK data to file: historicalData/trainingData1/MQK.csv\n"
     ]
    }
   ],
   "source": [
    "# Load the data\n",
    "cachedFolderName = '/data/'\n",
    "dataSetId = 'trainingData1'\n",
    "startDate = '2017/01/06'\n",
    "endDate = '2017/02/09'\n",
    "instrumentIds = ['MQK']\n",
    "downloadUrl = 'https://github.com/Auquan/auquan-historical-data/raw/master/qq2Data'\n",
    "\n",
    "ds = CsvDataSource(cachedFolderName='historicalData/',\n",
    "                             dataSetId=dataSetId,\n",
    "                             instrumentIds=instrumentIds,\n",
    "                             downloadUrl = downloadUrl,\n",
    "                             timeKey = 'datetime',\n",
    "                             timeStringFormat = '%Y-%m-%d %H:%M:%S',\n",
    "                             startDateStr=startDate,\n",
    "                             endDateStr=endDate,\n",
    "                             liveUpdates=False,\n",
    "                             pad=True)\n"
   ]
  },
  {
   "cell_type": "markdown",
   "metadata": {},
   "source": [
    "Auquan's Toolbox has downloaded and loaded the data into a dictionary of dataframes for you. We now need to prepare the data in a format we like.\n",
    "Let's first check if the data has loaded properly and the columns in data."
   ]
  },
  {
   "cell_type": "code",
   "execution_count": 4,
   "metadata": {},
   "outputs": [
    {
     "data": {
      "text/plain": [
       "['MQK']"
      ]
     },
     "execution_count": 4,
     "metadata": {},
     "output_type": "execute_result"
    }
   ],
   "source": [
    "ds.getInstrumentIds()"
   ]
  },
  {
   "cell_type": "code",
   "execution_count": 5,
   "metadata": {},
   "outputs": [
    {
     "data": {
      "text/plain": [
       "['stockVWAP',\n",
       " 'futureVWAP',\n",
       " 'basis',\n",
       " 'stockTopBidVol',\n",
       " 'stockTopAskVol',\n",
       " 'stockTopBidPrice',\n",
       " 'stockTopAskPrice',\n",
       " 'futureTopBidVol',\n",
       " 'futureTopAskVol',\n",
       " 'futureTopBidPrice',\n",
       " 'futureTopAskPrice',\n",
       " 'stockNextBidVol',\n",
       " 'stockNextAskVol',\n",
       " 'stockNextBidPrice',\n",
       " 'stockNextAskPrice',\n",
       " 'futureNextBidVol',\n",
       " 'futureNextAskVol',\n",
       " 'futureNextBidPrice',\n",
       " 'futureNextAskPrice',\n",
       " 'stockTotalBidVol',\n",
       " 'stockTotalAskVol',\n",
       " 'futureTotalBidVol',\n",
       " 'futureTotalAskVol',\n",
       " 'stockAverageBidPrice',\n",
       " 'stockAverageAskPrice',\n",
       " 'futureAverageBidPrice',\n",
       " 'futureAverageAskPrice',\n",
       " 'FairValue',\n",
       " 'benchmark_score']"
      ]
     },
     "execution_count": 5,
     "metadata": {},
     "output_type": "execute_result"
    }
   ],
   "source": [
    "ds.getBookDataFeatures()"
   ]
  },
  {
   "cell_type": "markdown",
   "metadata": {},
   "source": [
    "Now we load data in a format we like\n"
   ]
  },
  {
   "cell_type": "code",
   "execution_count": 6,
   "metadata": {},
   "outputs": [],
   "source": [
    "#Loading our data\n",
    "def loadData(ds, id):\n",
    "    data = ds._bookDataByInstrument[id].getBookData()\n",
    "\n",
    "    data['Stock Price'] =  data['stockTopBidPrice'] +\\\n",
    "                           data['stockTopAskPrice'] / 2.0\n",
    "    data['Future Price'] = data['futureTopBidPrice'] +\\\n",
    "                           data['futureTopAskPrice'] / 2.0\n",
    "    data['Y(Target)'] = data['basis'].shift(-5)\n",
    "    del data['benchmark_score']\n",
    "    del data['FairValue']\n",
    "    return data\n",
    "\n",
    "data = loadData(ds,instrumentIds[0])"
   ]
  },
  {
   "cell_type": "code",
   "execution_count": 7,
   "metadata": {
    "scrolled": true
   },
   "outputs": [
    {
     "name": "stdout",
     "output_type": "stream",
     "text": [
      "                     stockVWAP  futureVWAP  basis  stockTopBidVol  \\\n",
      "2017-01-06 09:17:00    517.773     512.492  5.425            79.0   \n",
      "2017-01-06 09:18:00    515.300     510.682  4.425            40.0   \n",
      "2017-01-06 09:19:00    516.225     511.342  4.950            81.0   \n",
      "2017-01-06 09:20:00    519.792     513.959  5.650           179.0   \n",
      "2017-01-06 09:21:00    520.270     513.819  6.400            68.0   \n",
      "2017-01-06 09:22:00    524.792     519.118  5.625          2299.0   \n",
      "\n",
      "                     stockTopAskVol  stockTopBidPrice  stockTopAskPrice  \\\n",
      "2017-01-06 09:17:00            79.0            518.00            518.30   \n",
      "2017-01-06 09:18:00            10.0            515.05            515.30   \n",
      "2017-01-06 09:19:00          1496.0            516.20            516.45   \n",
      "2017-01-06 09:20:00          1940.0            519.65            519.95   \n",
      "2017-01-06 09:21:00            93.0            520.45            520.60   \n",
      "2017-01-06 09:22:00          4924.0            524.60            525.00   \n",
      "\n",
      "                     futureTopBidVol  futureTopAskVol  futureTopBidPrice  ...  \\\n",
      "2017-01-06 09:17:00           4000.0           2000.0             512.60  ...   \n",
      "2017-01-06 09:18:00           2000.0           4000.0             510.65  ...   \n",
      "2017-01-06 09:19:00           2000.0           2000.0             511.25  ...   \n",
      "2017-01-06 09:20:00           2000.0           2000.0             514.05  ...   \n",
      "2017-01-06 09:21:00           2000.0           6000.0             513.85  ...   \n",
      "2017-01-06 09:22:00           2000.0           2000.0             519.00  ...   \n",
      "\n",
      "                     stockTotalAskVol  futureTotalBidVol  futureTotalAskVol  \\\n",
      "2017-01-06 09:17:00            2780.0            12000.0            12000.0   \n",
      "2017-01-06 09:18:00            1756.0            10000.0            24000.0   \n",
      "2017-01-06 09:19:00            3010.0            10000.0            14000.0   \n",
      "2017-01-06 09:20:00            3530.0            10000.0            12000.0   \n",
      "2017-01-06 09:21:00            2128.0            12000.0            24000.0   \n",
      "2017-01-06 09:22:00            5890.0            10000.0            12000.0   \n",
      "\n",
      "                     stockAverageBidPrice  stockAverageAskPrice  \\\n",
      "2017-01-06 09:17:00               517.493               518.654   \n",
      "2017-01-06 09:18:00               514.919               515.708   \n",
      "2017-01-06 09:19:00               515.986               516.488   \n",
      "2017-01-06 09:20:00               519.549               520.079   \n",
      "2017-01-06 09:21:00               520.022               520.756   \n",
      "2017-01-06 09:22:00               524.558               525.054   \n",
      "\n",
      "                     futureAverageBidPrice  futureAverageAskPrice  \\\n",
      "2017-01-06 09:17:00                512.000                513.142   \n",
      "2017-01-06 09:18:00                510.340                511.283   \n",
      "2017-01-06 09:19:00                511.050                511.650   \n",
      "2017-01-06 09:20:00                513.470                514.650   \n",
      "2017-01-06 09:21:00                513.392                514.775   \n",
      "2017-01-06 09:22:00                518.740                519.592   \n",
      "\n",
      "                     Stock Price  Future Price  Y(Target)  \n",
      "2017-01-06 09:17:00      777.150       769.025      5.625  \n",
      "2017-01-06 09:18:00      772.700       766.075      5.400  \n",
      "2017-01-06 09:19:00      774.425       767.000      5.450  \n",
      "2017-01-06 09:20:00      779.625       771.175      5.175  \n",
      "2017-01-06 09:21:00      780.750       771.050      5.050  \n",
      "2017-01-06 09:22:00      787.100       778.675      5.225  \n",
      "\n",
      "[6 rows x 30 columns]\n"
     ]
    }
   ],
   "source": [
    "print(data.head(6))"
   ]
  },
  {
   "cell_type": "markdown",
   "metadata": {},
   "source": [
    "## Step 3: Split Data\n",
    "\n",
    "For this problem we have three datasets available, we will use one as training set, second as validation set and the third as our test set"
   ]
  },
  {
   "cell_type": "code",
   "execution_count": 8,
   "metadata": {},
   "outputs": [
    {
     "name": "stdout",
     "output_type": "stream",
     "text": [
      "Processing data for stock: MQK\n",
      "https://github.com/Auquan/auquan-historical-data/raw/master/qq2Data/trainingData2/stock_list.txt\n",
      "Downloading list of stocks to file: historicalData/trainingData2/stock_list.txt\n",
      "Processing data for stock: MQK\n",
      "Downloading MQK data to file: historicalData/trainingData2/MQK.csv\n",
      "https://github.com/Auquan/auquan-historical-data/raw/master/qq2Data/trainingData3/stock_list.txt\n",
      "Downloading list of stocks to file: historicalData/trainingData3/stock_list.txt\n",
      "Processing data for stock: MQK\n",
      "Downloading MQK data to file: historicalData/trainingData3/MQK.csv\n"
     ]
    }
   ],
   "source": [
    "# Training Data\n",
    "dataSetId =  'trainingData1'\n",
    "ds_training = CsvDataSource(cachedFolderName='historicalData/',\n",
    "                             dataSetId=dataSetId,\n",
    "                             instrumentIds=instrumentIds,\n",
    "                             downloadUrl = downloadUrl,\n",
    "                             timeKey = 'datetime',\n",
    "                             timeStringFormat = '%Y-%m-%d %H:%M:%S',\n",
    "                             liveUpdates=False,\n",
    "                             pad=True)\n",
    "\n",
    "training_data = loadData(ds_training, instrumentIds[0])\n",
    "\n",
    "# Validation Data\n",
    "dataSetId =  'trainingData2'\n",
    "ds_validation = CsvDataSource(cachedFolderName='historicalData/',\n",
    "                             dataSetId=dataSetId,\n",
    "                             instrumentIds=instrumentIds,\n",
    "                             downloadUrl = downloadUrl,\n",
    "                             timeKey = 'datetime',\n",
    "                             timeStringFormat = '%Y-%m-%d %H:%M:%S',\n",
    "                             liveUpdates=False,\n",
    "                             pad=True)\n",
    "validation_data = loadData(ds_validation, instrumentIds[0])\n",
    "\n",
    "# Test Data\n",
    "dataSetId =  'trainingData3'\n",
    "ds_test = CsvDataSource(cachedFolderName='historicalData/',\n",
    "                             dataSetId=dataSetId,\n",
    "                             instrumentIds=instrumentIds,\n",
    "                             downloadUrl = downloadUrl,\n",
    "                             timeKey = 'datetime',\n",
    "                             timeStringFormat = '%Y-%m-%d %H:%M:%S',\n",
    "                             liveUpdates=False,\n",
    "                             pad=True)\n",
    "out_of_sample_test_data = loadData(ds_test, instrumentIds[0])"
   ]
  },
  {
   "cell_type": "markdown",
   "metadata": {},
   "source": [
    "### Preparing Data\n",
    "\n",
    "We add the target variable $Y$, defined as average of next five values of basis  "
   ]
  },
  {
   "cell_type": "code",
   "execution_count": 9,
   "metadata": {},
   "outputs": [],
   "source": [
    "def prepareData(data, period):\n",
    "    data['Y(Target)'] = data['basis'].rolling(period).mean().shift(-period)\n",
    "    if 'FairValue' in data.columns:\n",
    "        del data['FairValue']\n",
    "    data.dropna(inplace=True)\n",
    "\n",
    "period = 5\n",
    "prepareData(training_data, period)\n",
    "prepareData(validation_data, period)\n",
    "prepareData(out_of_sample_test_data, period)"
   ]
  },
  {
   "cell_type": "markdown",
   "metadata": {},
   "source": [
    "## Step 4: Feature Engineering\n",
    "\n",
    "Let's try to create some features that may have some predictive power on our data.\n",
    "\n",
    "*** The golden rule of feature selection is that the predictive power should come from primarily from the features and not from the model. You will find that the choice of features has a far greater impact on performance than the choice of model. *\n",
    "\n",
    "We shouldn't randomly choose a very large set of features without exploring relationship with target variable, because little or no relationship with target variable will likely lead to overfitting.\n",
    "The features might be highly correlated with each other, in that case a fewer number of features will explain the target just as well.\n",
    "\n",
    "For this first iteration, we create a large number of features, using a mix of parameters. Later we will try to see if can reduce the number of features\n"
   ]
  },
  {
   "cell_type": "code",
   "execution_count": 10,
   "metadata": {},
   "outputs": [],
   "source": [
    "def difference(dataDf, period):\n",
    "    return dataDf.sub(dataDf.shift(period), fill_value=0)\n",
    "\n",
    "def ewm(dataDf, halflife):\n",
    "    return dataDf.ewm(halflife=halflife,ignore_na=False,min_periods=0,adjust=True).mean()\n",
    "\n",
    "def rsi(data, period):\n",
    "    data_upside = data.sub(data.shift(1), fill_value=0)\n",
    "    data_downside = data_upside.copy()\n",
    "    data_downside[data_upside > 0] = 0\n",
    "    data_upside[data_upside < 0] = 0\n",
    "    avg_upside = data_upside.rolling(period).mean()\n",
    "    avg_downside = - data_downside.rolling(period).mean()\n",
    "    rsi = 100 - (100 * avg_downside / (avg_downside + avg_upside))\n",
    "    rsi[avg_downside == 0] = 100\n",
    "    rsi[(avg_downside == 0) & (avg_upside == 0)] = 0\n",
    "\n",
    "    return rsi"
   ]
  },
  {
   "cell_type": "code",
   "execution_count": 11,
   "metadata": {},
   "outputs": [],
   "source": [
    "def create_features(data):\n",
    "    basis_X = pd.DataFrame(index = data.index, columns =  [ 'emabasis3','emabasis5','emabasis2','emabasis7','emabasis10',\\\n",
    "                                                             'emabasis4','rsi15','rsi10','rsi5','mom1','mom10',\\\n",
    "                                                             'mom3','mom5'])\n",
    "    \n",
    "    basis_X['mom1'] = difference(data['basis'],2)\n",
    "    basis_X['mom3'] = difference(data['basis'],4)\n",
    "    basis_X['mom5'] = difference(data['basis'],6)\n",
    "    basis_X['mom10'] = difference(data['basis'],11)\n",
    "\n",
    "    basis_X['rsi15'] = rsi(data['basis'],15)\n",
    "    basis_X['rsi10'] = rsi(data['basis'],10)\n",
    "    basis_X['rsi5'] = rsi(data['basis'],5)\n",
    "    \n",
    "    basis_X['emabasis2'] = ewm(data['basis'],2)\n",
    "    basis_X['emabasis3'] = ewm(data['basis'],3)\n",
    "    basis_X['emabasis4'] = ewm(data['basis'],4)\n",
    "    basis_X['emabasis5'] = ewm(data['basis'],5)\n",
    "    basis_X['emabasis7'] = ewm(data['basis'],7)\n",
    "    basis_X['emabasis10'] = ewm(data['basis'],10)\n",
    "\n",
    "    basis_X['basis'] = data['basis']\n",
    "    basis_X['vwapbasis'] = data['stockVWAP']-data['futureVWAP']\n",
    "    \n",
    "    basis_X['swidth'] = data['stockTopAskPrice']-data['stockTopBidPrice']\n",
    "    basis_X['fwidth'] = data['futureTopAskPrice']-data['futureTopBidPrice']\n",
    "    \n",
    "    basis_X['btopask'] = data['stockTopAskPrice']-data['futureTopAskPrice']\n",
    "    basis_X['btopbid'] =data['stockTopBidPrice']-data['futureTopBidPrice']\n",
    "    basis_X['bavgask'] = data['stockAverageAskPrice']-data['futureAverageAskPrice']\n",
    "    basis_X['bavgbid'] = data['stockAverageBidPrice']-data['futureAverageBidPrice']\n",
    "    basis_X['bnextask'] = data['stockNextAskPrice']-data['futureNextAskPrice']\n",
    "    basis_X['bnextbid'] = data['stockNextBidPrice']-data['futureNextBidPrice']\n",
    "    basis_X['topaskvolratio'] = data['stockTopAskVol']/data['futureTopAskVol']\n",
    "    basis_X['topbidvolratio'] = data['stockTopBidVol']/data['futureTopBidVol']\n",
    "    basis_X['totalaskvolratio'] = data['stockTotalAskVol']/data['futureTotalAskVol']\n",
    "    basis_X['totalbidvolratio'] = data['stockTotalBidVol']/data['futureTotalBidVol']\n",
    "    basis_X['nextbidvolratio'] = data['stockNextBidVol']/data['futureNextBidVol']\n",
    "    basis_X['nextaskvolratio'] = data['stockNextAskVol']-data['futureNextAskVol']\n",
    "    \n",
    "    basis_X['emabasisdi4'] = basis_X['emabasis7'] - basis_X['emabasis5'] + basis_X['emabasis2']\n",
    "    basis_X['emabasisdi7'] = basis_X['emabasis7'] - basis_X['emabasis5']+ basis_X['emabasis3']\n",
    "    basis_X['emabasisdi1'] = basis_X['emabasis10'] - basis_X['emabasis5'] + basis_X['emabasis3']\n",
    "    basis_X['emabasisdi3'] = basis_X['emabasis10'] - basis_X['emabasis3']+ basis_X['emabasis5']\n",
    "    basis_X['emabasisdi5'] = basis_X['emabasis7']- basis_X['emabasis5'] + data['basis']\n",
    "    basis_X['emabasisdi'] = basis_X['emabasis5'] - basis_X['emabasis3'] + data['basis']\n",
    "    basis_X['emabasisdi6'] = basis_X['emabasis7'] - basis_X['emabasis3']+ data['basis']\n",
    "    basis_X['emabasisdi2'] = basis_X['emabasis10'] - basis_X['emabasis5']+ data['basis']\n",
    "    basis_X['emabasisdi3'] = basis_X['emabasis10'] - basis_X['emabasis3']+ basis_X['emabasis5']\n",
    "    \n",
    "    basis_X = basis_X.fillna(0)\n",
    "    \n",
    "    basis_y = data['Y(Target)']\n",
    "    basis_y.dropna(inplace=True)\n",
    "    \n",
    "    print(\"Any null data in y: %s, X: %s\"%(basis_y.isnull().values.any(), basis_X.isnull().values.any()))\n",
    "    print(\"Length y: %s, X: %s\"%(len(basis_y.index), len(basis_X.index)))\n",
    "    \n",
    "    return basis_X, basis_y"
   ]
  },
  {
   "cell_type": "code",
   "execution_count": 12,
   "metadata": {},
   "outputs": [
    {
     "name": "stdout",
     "output_type": "stream",
     "text": [
      "Any null data in y: False, X: False\n",
      "Length y: 8737, X: 8737\n",
      "Any null data in y: False, X: False\n",
      "Length y: 6499, X: 6499\n"
     ]
    }
   ],
   "source": [
    "basis_X_train, basis_y_train = create_features(training_data)\n",
    "basis_X_test, basis_y_test = create_features(validation_data)"
   ]
  },
  {
   "cell_type": "markdown",
   "metadata": {},
   "source": [
    "## Step 5: Model Selection\n",
    "\n",
    "Let's start with a Linear Regression model with non-normalized features"
   ]
  },
  {
   "cell_type": "code",
   "execution_count": 13,
   "metadata": {},
   "outputs": [],
   "source": [
    "from sklearn import linear_model\n",
    "from sklearn.metrics import mean_squared_error, r2_score\n",
    "\n",
    "def linear_regression(basis_X_train, basis_y_train, basis_X_test,basis_y_test):\n",
    "    regr = linear_model.LinearRegression()\n",
    "    # Train the model using the training sets\n",
    "    regr.fit(basis_X_train, basis_y_train)\n",
    "    # Make predictions using the testing set\n",
    "    basis_y_pred = regr.predict(basis_X_test)\n",
    "\n",
    "    # The coefficients\n",
    "    print('Coefficients: \\n', regr.coef_)\n",
    "    # The mean squared error\n",
    "    print(\"Mean squared error: %.2f\"\n",
    "          % mean_squared_error(basis_y_test, basis_y_pred))\n",
    "    # Explained variance score: 1 is perfect prediction\n",
    "    print('Variance score: %.2f' % r2_score(basis_y_test, basis_y_pred))\n",
    "\n",
    "    # Plot outputs\n",
    "    plt.scatter(basis_y_pred, basis_y_test,  color='black')\n",
    "    plt.plot(basis_y_test, basis_y_test, color='blue', linewidth=3)\n",
    "\n",
    "    plt.xlabel('Y(actual)')\n",
    "    plt.ylabel('Y(Predicted)')\n",
    "\n",
    "    plt.show()\n",
    "    \n",
    "    return regr, basis_y_pred"
   ]
  },
  {
   "cell_type": "markdown",
   "metadata": {},
   "source": [
    "## Step 6: Train, Validate and Optimize (repeat steps 4-6)\n",
    "\n",
    "Now we will try to itereate over various models, model parameters and feature space"
   ]
  },
  {
   "cell_type": "code",
   "execution_count": 14,
   "metadata": {
    "scrolled": true
   },
   "outputs": [
    {
     "name": "stdout",
     "output_type": "stream",
     "text": [
      "Coefficients: \n",
      " [ 4.38506981e+08 -1.66991925e+08 -5.38947058e+07 -5.92025170e+07\n",
      " -2.28644191e+07 -5.64902008e+01 -1.04190132e-03 -6.17666905e-04\n",
      " -8.06040214e-05  4.34485828e-02  1.16502199e-02  5.76372432e-02\n",
      " -3.06233365e-02 -7.55342473e+07  8.40094699e-02  4.34486310e-03\n",
      " -6.73828151e-03 -7.55342473e+07 -7.55342473e+07  6.47624371e-02\n",
      "  5.72076951e-02  2.83567249e-03  1.58604686e-02 -7.61758391e-03\n",
      " -7.65899284e-04 -3.88044686e-02  3.12718202e-02  3.41598011e-03\n",
      " -1.31052374e-06  5.38947021e+07 -1.43719222e+08 -1.07381124e+08\n",
      "  6.16522858e+07  3.22551606e+07  8.98245759e+06  1.16771865e+08\n",
      "  6.85932585e+07]\n",
      "Mean squared error: 0.02\n",
      "Variance score: 0.96\n"
     ]
    },
    {
     "data": {
      "image/png": "[encoded data removed]",
      "text/plain": [
       "<Figure size 432x288 with 1 Axes>"
      ]
     },
     "metadata": {
      "needs_background": "light"
     },
     "output_type": "display_data"
    }
   ],
   "source": [
    "_, basis_y_pred = linear_regression(basis_X_train, basis_y_train, basis_X_test,basis_y_test)"
   ]
  },
  {
   "cell_type": "markdown",
   "metadata": {},
   "source": [
    "Look at the model coeffecients. We can't really compare them or tell which ones are important since they all belong to different scale. Let's try normalization to conform them to same scale and also enforce some stationarity.\n",
    "\n",
    "Normalization is generally tricky because future range of data is unknown. We overcome this by using rolling histrical mean and standard deviation over lookback period. However, this means the same normalized value of feature will mean different actual value at different times. This may be a cause of errors in your model; hence normalization is tricky and you have to figure what actually improves performance of your model(if at all)."
   ]
  },
  {
   "cell_type": "code",
   "execution_count": 15,
   "metadata": {},
   "outputs": [],
   "source": [
    "def normalize(basis_X, basis_y, period):\n",
    "    basis_X_norm = (basis_X - basis_X.rolling(period).mean())/basis_X.rolling(period).std()\n",
    "    basis_X_norm.dropna(inplace=True)\n",
    "    basis_y_norm = (basis_y - basis_X['basis'].rolling(period).mean())/basis_X['basis'].rolling(period).std()\n",
    "    basis_y_norm = basis_y_norm[basis_X_norm.index]\n",
    "    \n",
    "    return basis_X_norm, basis_y_norm"
   ]
  },
  {
   "cell_type": "code",
   "execution_count": 16,
   "metadata": {
    "scrolled": true
   },
   "outputs": [
    {
     "name": "stdout",
     "output_type": "stream",
     "text": [
      "Coefficients: \n",
      " [-3.62562340e+00 -9.15274246e+00  1.44465723e+00  8.87792906e+00\n",
      " -5.55687316e+00  1.98323174e+01 -3.52677595e-03 -1.46185137e-02\n",
      " -2.28603171e-02  8.89158363e-03  1.96775578e-02 -1.09431841e-03\n",
      " -3.32224637e-03 -7.91656252e+00  4.98693313e-02  6.53834026e-03\n",
      "  1.12615956e-02  2.08691443e+00  2.03221946e+00  9.75083631e-02\n",
      "  6.10888994e-02 -3.13066921e-02  4.78554884e-02  5.84281792e-04\n",
      "  1.12986615e-02 -2.19490620e-02  2.31187541e-02  5.69928897e-03\n",
      " -5.78663706e-03  3.02309761e+00 -2.45138755e+01  1.00726718e+01\n",
      "  2.00852824e-02  1.53648992e+01 -9.16940626e+00  4.29745408e+00\n",
      " -6.36285008e+00]\n",
      "Mean squared error: 0.28\n",
      "Variance score: 0.77\n"
     ]
    },
    {
     "data": {
      "image/png": "[encoded data removed]",
      "text/plain": [
       "<Figure size 432x288 with 1 Axes>"
      ]
     },
     "metadata": {
      "needs_background": "light"
     },
     "output_type": "display_data"
    }
   ],
   "source": [
    "norm_period = 375\n",
    "basis_X_norm_test, basis_y_norm_test = normalize(basis_X_test,basis_y_test, norm_period)\n",
    "basis_X_norm_train, basis_y_norm_train = normalize(basis_X_train, basis_y_train, norm_period)\n",
    "\n",
    "regr_norm, basis_y_pred = linear_regression(basis_X_norm_train, basis_y_norm_train, basis_X_norm_test, basis_y_norm_test)"
   ]
  },
  {
   "cell_type": "markdown",
   "metadata": {},
   "source": [
    "The model doesn't seem to predict normalized $Y$ that well. We first convert prediction $Y$ back to unnormalized value to evaluate model"
   ]
  },
  {
   "cell_type": "code",
   "execution_count": 17,
   "metadata": {},
   "outputs": [
    {
     "name": "stdout",
     "output_type": "stream",
     "text": [
      "Mean squared error: 0.05\n",
      "Variance score: 0.90\n"
     ]
    },
    {
     "data": {
      "image/png": "[encoded data removed]",
      "text/plain": [
       "<Figure size 432x288 with 1 Axes>"
      ]
     },
     "metadata": {
      "needs_background": "light"
     },
     "output_type": "display_data"
    }
   ],
   "source": [
    "basis_y_pred = basis_y_pred * basis_X_test['basis'].rolling(period).std()[basis_y_norm_test.index] + basis_X_test['basis'].rolling(period).mean()[basis_y_norm_test.index]\n",
    "\n",
    "print(\"Mean squared error: %.2f\"\n",
    "      % mean_squared_error(basis_y_test[basis_y_norm_test.index], basis_y_pred))\n",
    "# Explained variance score: 1 is perfect prediction\n",
    "print('Variance score: %.2f' % r2_score(basis_y_test[basis_y_norm_test.index], basis_y_pred))\n",
    "\n",
    "# Plot outputs\n",
    "plt.scatter(basis_y_pred, basis_y_test[basis_y_norm_test.index],  color='black')\n",
    "plt.plot(basis_y_test, basis_y_test, color='blue', linewidth=3)\n",
    "\n",
    "plt.xlabel('Y(actual)')\n",
    "plt.ylabel('Y(Predicted)')\n",
    "\n",
    "plt.show()"
   ]
  },
  {
   "cell_type": "markdown",
   "metadata": {},
   "source": [
    "The model doesn't improve on the previous model, but it's not much worse either.And now we can actually compare coeffecients to see which features are actually important.\n",
    "\n",
    "Let's look at the coeffecients"
   ]
  },
  {
   "cell_type": "code",
   "execution_count": 18,
   "metadata": {},
   "outputs": [
    {
     "name": "stdout",
     "output_type": "stream",
     "text": [
      "-3.6256, emabasis3\n",
      "-9.1527, emabasis5\n",
      "1.4447, emabasis2\n",
      "8.8779, emabasis7\n",
      "-5.5569, emabasis10\n",
      "19.8323, emabasis4\n",
      "-0.0035, rsi15\n",
      "-0.0146, rsi10\n",
      "-0.0229, rsi5\n",
      "0.0089, mom1\n",
      "0.0197, mom10\n",
      "-0.0011, mom3\n",
      "-0.0033, mom5\n",
      "-7.9166, basis\n",
      "0.0499, vwapbasis\n",
      "0.0065, swidth\n",
      "0.0113, fwidth\n",
      "2.0869, btopask\n",
      "2.0322, btopbid\n",
      "0.0975, bavgask\n",
      "0.0611, bavgbid\n",
      "-0.0313, bnextask\n",
      "0.0479, bnextbid\n",
      "0.0006, topaskvolratio\n",
      "0.0113, topbidvolratio\n",
      "-0.0219, totalaskvolratio\n",
      "0.0231, totalbidvolratio\n",
      "0.0057, nextbidvolratio\n",
      "-0.0058, nextaskvolratio\n",
      "3.0231, emabasisdi4\n",
      "-24.5139, emabasisdi7\n",
      "10.0727, emabasisdi1\n",
      "0.0201, emabasisdi3\n",
      "15.3649, emabasisdi5\n",
      "-9.1694, emabasisdi\n",
      "4.2975, emabasisdi6\n",
      "-6.3629, emabasisdi2\n"
     ]
    }
   ],
   "source": [
    "for i in range(len(basis_X_train.columns)):\n",
    "    print('%.4f, %s'%(regr_norm.coef_[i], basis_X_train.columns[i]))"
   ]
  },
  {
   "cell_type": "markdown",
   "metadata": {},
   "source": [
    "We can clearly see that some features have a much higher coeffecient compared to others, and probably have more predictive power.\n",
    "\n",
    "Let's also look at correlation between different features."
   ]
  },
  {
   "cell_type": "code",
   "execution_count": 19,
   "metadata": {},
   "outputs": [
    {
     "data": {
      "image/png": "[encoded data removed]",
      "text/plain": [
       "<Figure size 720x720 with 2 Axes>"
      ]
     },
     "metadata": {
      "needs_background": "light"
     },
     "output_type": "display_data"
    }
   ],
   "source": [
    "import seaborn\n",
    "\n",
    "c = basis_X_train.corr()\n",
    "plt.figure(figsize=(10,10))\n",
    "seaborn.heatmap(c, cmap='RdYlGn_r', mask = (np.abs(c) <= 0.8))\n",
    "plt.show()\n"
   ]
  },
  {
   "cell_type": "markdown",
   "metadata": {},
   "source": [
    "The areas of dark red indicate highly correlated variables. Let's create/modify some features again and try to improve our model. \n",
    "\n",
    "For example, I can easily discard features line *emabasisdi7* that are just a linear combination of other features"
   ]
  },
  {
   "cell_type": "code",
   "execution_count": 20,
   "metadata": {},
   "outputs": [],
   "source": [
    "def create_features_again(data):\n",
    "    basis_X = pd.DataFrame(index = data.index, columns =  [])\n",
    "    \n",
    "    basis_X['mom10'] = difference(data['basis'],11)\n",
    "    \n",
    "    basis_X['emabasis2'] = ewm(data['basis'],2)\n",
    "    basis_X['emabasis5'] = ewm(data['basis'],5)\n",
    "    basis_X['emabasis10'] = ewm(data['basis'],10)\n",
    "\n",
    "    basis_X['basis'] = data['basis']\n",
    "\n",
    "    basis_X['totalaskvolratio'] = (data['stockTotalAskVol']-data['futureTotalAskVol'])/100000\n",
    "    basis_X['totalbidvolratio'] = (data['stockTotalBidVol']-data['futureTotalBidVol'])/100000\n",
    "    \n",
    "    basis_X = basis_X.fillna(0)\n",
    "    \n",
    "    basis_y = data['Y(Target)']\n",
    "    basis_y.dropna(inplace=True)\n",
    "    \n",
    "    print(\"Any null data in y: %s, X: %s\"%(basis_y.isnull().values.any(), basis_X.isnull().values.any()))\n",
    "    print(\"Length y: %s, X: %s\"%(len(basis_y.index), len(basis_X.index)))\n",
    "    \n",
    "    return basis_X, basis_y"
   ]
  },
  {
   "cell_type": "code",
   "execution_count": 21,
   "metadata": {},
   "outputs": [
    {
     "name": "stdout",
     "output_type": "stream",
     "text": [
      "Any null data in y: False, X: False\n",
      "Length y: 6499, X: 6499\n",
      "Any null data in y: False, X: False\n",
      "Length y: 8737, X: 8737\n",
      "Coefficients: \n",
      " [-0.0067528   0.52879292 -0.37816556  0.2323171   0.53062944 -0.01874965\n",
      "  0.028642  ]\n",
      "Mean squared error: 0.28\n",
      "Variance score: 0.77\n"
     ]
    },
    {
     "data": {
      "image/png": "[encoded data removed]",
      "text/plain": [
       "<Figure size 432x288 with 1 Axes>"
      ]
     },
     "metadata": {
      "needs_background": "light"
     },
     "output_type": "display_data"
    }
   ],
   "source": [
    "basis_X_test, basis_y_test = create_features_again(validation_data)\n",
    "basis_X_train, basis_y_train = create_features_again(training_data)\n",
    "norm_period = 375\n",
    "basis_X_norm_test, basis_y_norm_test = normalize(basis_X_test,basis_y_test, norm_period)\n",
    "basis_X_norm_train, basis_y_norm_train = normalize(basis_X_train, basis_y_train, norm_period)\n",
    "\n",
    "regr_norm, basis_y_pred = linear_regression(basis_X_norm_train, basis_y_norm_train, basis_X_norm_test, basis_y_norm_test)\n"
   ]
  },
  {
   "cell_type": "code",
   "execution_count": 22,
   "metadata": {},
   "outputs": [
    {
     "name": "stdout",
     "output_type": "stream",
     "text": [
      "Mean squared error: 0.05\n",
      "Variance score: 0.90\n"
     ]
    },
    {
     "data": {
      "image/png": "[encoded data removed]",
      "text/plain": [
       "<Figure size 432x288 with 1 Axes>"
      ]
     },
     "metadata": {
      "needs_background": "light"
     },
     "output_type": "display_data"
    },
    {
     "name": "stdout",
     "output_type": "stream",
     "text": [
      "-0.006752804064541164 mom10\n",
      "0.5287929217375542 emabasis2\n",
      "-0.378165555274116 emabasis5\n",
      "0.23231709523967367 emabasis10\n",
      "0.5306294374728764 basis\n",
      "-0.018749648783582595 totalaskvolratio\n",
      "0.028641995632551667 totalbidvolratio\n"
     ]
    }
   ],
   "source": [
    "basis_y_pred = basis_y_pred * basis_X_test['basis'].rolling(period).std()[basis_y_norm_test.index] + basis_X_test['basis'].rolling(period).mean()[basis_y_norm_test.index]\n",
    "\n",
    "print(\"Mean squared error: %.2f\"\n",
    "      % mean_squared_error(basis_y_test[basis_y_norm_test.index], basis_y_pred))\n",
    "# Explained variance score: 1 is perfect prediction\n",
    "print('Variance score: %.2f' % r2_score(basis_y_test[basis_y_norm_test.index], basis_y_pred))\n",
    "\n",
    "# Plot outputs\n",
    "plt.scatter(basis_y_pred, basis_y_test[basis_y_norm_test.index],  color='black')\n",
    "plt.plot(basis_y_test, basis_y_test, color='blue', linewidth=3)\n",
    "\n",
    "plt.xlabel('Y(actual)')\n",
    "plt.ylabel('Y(Predicted)')\n",
    "\n",
    "plt.show()\n",
    "\n",
    "for i in range(len(basis_X_train.columns)):\n",
    "    print(regr_norm.coef_[i], basis_X_train.columns[i])"
   ]
  },
  {
   "cell_type": "markdown",
   "metadata": {},
   "source": [
    "See, our model performance does not change, and we only need a few features to explain our target variable. I recommend playing with more features above, trying new combinations etc to see what can improve our model.\n",
    "\n",
    "Let's go back to the non-normalized model, since normalization doesn't really help our model."
   ]
  },
  {
   "cell_type": "code",
   "execution_count": 23,
   "metadata": {},
   "outputs": [
    {
     "name": "stdout",
     "output_type": "stream",
     "text": [
      "Coefficients: \n",
      " [ 0.03249183  0.49675487 -0.22289464  0.2025182   0.5080227  -0.21557005\n",
      "  0.17128488]\n",
      "Mean squared error: 0.02\n",
      "Variance score: 0.96\n"
     ]
    },
    {
     "data": {
      "image/png": "[encoded data removed]",
      "text/plain": [
       "<Figure size 432x288 with 1 Axes>"
      ]
     },
     "metadata": {
      "needs_background": "light"
     },
     "output_type": "display_data"
    }
   ],
   "source": [
    "_, basis_y_pred = linear_regression(basis_X_train, basis_y_train, basis_X_test,basis_y_test)\n",
    "\n",
    "basis_y_regr = basis_y_pred.copy()"
   ]
  },
  {
   "cell_type": "markdown",
   "metadata": {},
   "source": [
    "You work more on the code above, try different combinations of features etc  to see what can improve our model."
   ]
  },
  {
   "cell_type": "markdown",
   "metadata": {},
   "source": [
    "We can also try more sophisticated models to see if change of model may improve performance"
   ]
  },
  {
   "cell_type": "markdown",
   "metadata": {},
   "source": [
    "### K Nearest Neighbours"
   ]
  },
  {
   "cell_type": "code",
   "execution_count": 24,
   "metadata": {},
   "outputs": [
    {
     "name": "stdout",
     "output_type": "stream",
     "text": [
      "Mean squared error: 0.02\n",
      "Variance score: 0.95\n"
     ]
    },
    {
     "data": {
      "image/png": "[encoded data removed]",
      "text/plain": [
       "<Figure size 432x288 with 1 Axes>"
      ]
     },
     "metadata": {
      "needs_background": "light"
     },
     "output_type": "display_data"
    }
   ],
   "source": [
    "from sklearn import neighbors\n",
    "n_neighbors = 5\n",
    "\n",
    "model = neighbors.KNeighborsRegressor(n_neighbors, weights='distance')\n",
    "model.fit(basis_X_train, basis_y_train)\n",
    "basis_y_pred = model.predict(basis_X_test)\n",
    "\n",
    "# The mean squared error\n",
    "print(\"Mean squared error: %.2f\"\n",
    "      % mean_squared_error(basis_y_test, basis_y_pred))\n",
    "# Explained variance score: 1 is perfect prediction\n",
    "print('Variance score: %.2f' % r2_score(basis_y_test, basis_y_pred))\n",
    "\n",
    "# Plot outputs\n",
    "plt.scatter(basis_y_pred, basis_y_test,  color='black')\n",
    "plt.plot(basis_y_test, basis_y_test, color='blue', linewidth=3)\n",
    "\n",
    "plt.xlabel('Y(actual)')\n",
    "plt.ylabel('Y(Predicted)')\n",
    "\n",
    "plt.show()\n",
    "\n",
    "basis_y_knn = basis_y_pred.copy()"
   ]
  },
  {
   "cell_type": "markdown",
   "metadata": {},
   "source": [
    "### SVR"
   ]
  },
  {
   "cell_type": "code",
   "execution_count": 25,
   "metadata": {},
   "outputs": [
    {
     "name": "stdout",
     "output_type": "stream",
     "text": [
      "Mean squared error: 0.02\n",
      "Variance score: 0.95\n"
     ]
    },
    {
     "data": {
      "image/png": "[encoded data removed]",
      "text/plain": [
       "<Figure size 432x288 with 1 Axes>"
      ]
     },
     "metadata": {
      "needs_background": "light"
     },
     "output_type": "display_data"
    }
   ],
   "source": [
    "from sklearn.svm import SVR\n",
    "\n",
    "model = SVR(kernel='rbf', C=1e3, gamma=0.1)\n",
    "\n",
    "model.fit(basis_X_train, basis_y_train)\n",
    "basis_y_pred = model.predict(basis_X_test)\n",
    "\n",
    "# The mean squared error\n",
    "print(\"Mean squared error: %.2f\"\n",
    "      % mean_squared_error(basis_y_test, basis_y_pred))\n",
    "# Explained variance score: 1 is perfect prediction\n",
    "print('Variance score: %.2f' % r2_score(basis_y_test, basis_y_pred))\n",
    "\n",
    "# Plot outputs\n",
    "plt.scatter(basis_y_pred, basis_y_test,  color='black')\n",
    "plt.plot(basis_y_test, basis_y_test, color='blue', linewidth=3)\n",
    "\n",
    "\n",
    "plt.xlabel('Y(actual)')\n",
    "plt.ylabel('Y(Predicted)')\n",
    "\n",
    "plt.show()\n",
    "\n",
    "basis_y_svr = basis_y_pred.copy()"
   ]
  },
  {
   "cell_type": "markdown",
   "metadata": {},
   "source": [
    "### Decision Trees"
   ]
  },
  {
   "cell_type": "code",
   "execution_count": 26,
   "metadata": {},
   "outputs": [
    {
     "name": "stdout",
     "output_type": "stream",
     "text": [
      "Mean squared error: 0.02\n",
      "Variance score: 0.95\n"
     ]
    },
    {
     "data": {
      "image/png": "[encoded data removed]",
      "text/plain": [
       "<Figure size 432x288 with 1 Axes>"
      ]
     },
     "metadata": {
      "needs_background": "light"
     },
     "output_type": "display_data"
    }
   ],
   "source": [
    "from sklearn import ensemble\n",
    "model=ensemble.ExtraTreesRegressor()\n",
    "model.fit(basis_X_train, basis_y_train)\n",
    "basis_y_pred = model.predict(basis_X_test)\n",
    "\n",
    "# The mean squared error\n",
    "print(\"Mean squared error: %.2f\"\n",
    "      % mean_squared_error(basis_y_test, basis_y_pred))\n",
    "# Explained variance score: 1 is perfect prediction\n",
    "print('Variance score: %.2f' % r2_score(basis_y_test, basis_y_pred))\n",
    "\n",
    "# Plot outputs\n",
    "plt.scatter(basis_y_pred, basis_y_test,  color='black')\n",
    "plt.plot(basis_y_test, basis_y_test, color='blue', linewidth=3)\n",
    "\n",
    "\n",
    "plt.xlabel('Y(actual)')\n",
    "plt.ylabel('Y(Predicted)')\n",
    "\n",
    "plt.show()\n",
    "\n",
    "basis_y_trees = basis_y_pred.copy()"
   ]
  },
  {
   "cell_type": "markdown",
   "metadata": {},
   "source": [
    "### Ensemble Method\n",
    "\n",
    "We could try averaging predictions from all of the above methods to make our final prediction. Some models may work well in prediction certain scenarios and other in prediction other scenarios. Or a model may be extremely overfitting in a certain scenario. Aggregating predictions from different models can reduce error and overfitting, with errors from different models likely getting cancelled out or reduced. \n",
    "\n",
    "One simple way is to simply average the predictions. Other common ensemble methods are Bagging and Boosting.\n"
   ]
  },
  {
   "cell_type": "code",
   "execution_count": 27,
   "metadata": {},
   "outputs": [],
   "source": [
    "basis_y_pred_ensemble = (basis_y_trees + basis_y_svr + +basis_y_knn + basis_y_regr)/4"
   ]
  },
  {
   "cell_type": "code",
   "execution_count": 28,
   "metadata": {},
   "outputs": [
    {
     "name": "stdout",
     "output_type": "stream",
     "text": [
      "Mean squared error: 0.02\n",
      "Variance score: 0.95\n"
     ]
    },
    {
     "data": {
      "image/png": "[encoded data removed]",
      "text/plain": [
       "<Figure size 432x288 with 1 Axes>"
      ]
     },
     "metadata": {
      "needs_background": "light"
     },
     "output_type": "display_data"
    }
   ],
   "source": [
    "# The mean squared error\n",
    "print(\"Mean squared error: %.2f\"\n",
    "      % mean_squared_error(basis_y_test, basis_y_pred))\n",
    "# Explained variance score: 1 is perfect prediction\n",
    "print('Variance score: %.2f' % r2_score(basis_y_test, basis_y_pred))\n",
    "\n",
    "# Plot outputs\n",
    "plt.scatter(basis_y_pred, basis_y_test,  color='black')\n",
    "plt.plot(basis_y_test, basis_y_test, color='blue', linewidth=3)\n",
    "\n",
    "\n",
    "plt.xlabel('Y(actual)')\n",
    "plt.ylabel('Y(Predicted)')\n",
    "\n",
    "plt.show()"
   ]
  },
  {
   "cell_type": "markdown",
   "metadata": {},
   "source": [
    "Note thatI have only mentioned a few common models here. You should try feature egineering with each of them and also play with model parameters to further optimize.\n",
    "\n",
    "You loop over this stage multiple times till you finally have a model that you’re happy with. Only when you have a model who’s performance you like, proceed to the next step."
   ]
  },
  {
   "cell_type": "markdown",
   "metadata": {},
   "source": [
    "## Step 7: Backtest on Test Data\n",
    "\n",
    "Finally I backtest performance of our final, optimized model from last step on that Test Data that we had kept aside at the start and did not touch yet.\n",
    "This provides you with realistic expectation of how your model is expected to perform on new and unseen data when you start trading live. Hence, it is necessary to ensure you have a clean dataset that you haven’t used to train or validate your model.\n",
    "\n",
    "We're going to choose our linear regression model as our final model of choice. For this purpose, I'm going to use Auquan’s [python based free and open source toolbox](https://bitbucket.org/auquan/auquantoolbox). You can install it via pip: \n",
    "\n",
    "`pip install -U auquan_toolbox`"
   ]
  },
  {
   "cell_type": "markdown",
   "metadata": {},
   "source": [
    "The toolbox allows you to simulate and control every part of a trading system, however for now, we will only focus on testing the quality of our predictions and use out of the box implementations of everything else\n",
    "\n",
    "The predictions are implemented in `getPrediction()` function below. We are using the same features and coeffeceints as the linear regression model we trained above.\n"
   ]
  },
  {
   "cell_type": "code",
   "execution_count": 29,
   "metadata": {},
   "outputs": [],
   "source": [
    "from backtester.trading_system import TradingSystem\n",
    "from backtester.trading_system_parameters import TradingSystemParameters\n",
    "from backtester.features.feature import Feature\n",
    "from backtester.executionSystem.simple_execution_system_fairvalue import SimpleExecutionSystemWithFairValue\n",
    "from backtester.orderPlacer.backtesting_order_placer import BacktestingOrderPlacer\n",
    "from backtester.version import updateCheck\n",
    "from backtester.constants import *\n",
    "from backtester.timeRule.us_time_rule import USTimeRule\n",
    "from backtester.logger import *"
   ]
  },
  {
   "cell_type": "code",
   "execution_count": 30,
   "metadata": {},
   "outputs": [],
   "source": [
    "class MyTradingParams(TradingSystemParameters):\n",
    "    def __init__(self):\n",
    "        super(MyTradingParams, self).__init__()\n",
    "        self.count = 0 \n",
    "        self.params = {}\n",
    "        self.start = '2017/01/06'\n",
    "        self.end = '2017/01/10'\n",
    "        self.instrumentIds = ['MQK']\n",
    "\n",
    "    '''\n",
    "    Returns an instance of class DataParser. Source of data for instruments\n",
    "    '''\n",
    "\n",
    "    def getDataParser(self):\n",
    "        dataSetId = 'trainingData3'\n",
    "        downloadUrl = 'https://github.com/Auquan/auquan-historical-data/raw/master/qq2Data'\n",
    "        \n",
    "        z= CsvDataSource(cachedFolderName='historicalData/',\n",
    "                             dataSetId=dataSetId,\n",
    "                             instrumentIds=self.instrumentIds,\n",
    "                             downloadUrl = downloadUrl,\n",
    "                             timeKey = '',\n",
    "                             timeStringFormat = '%Y-%m-%d %H:%M:%S',\n",
    "                             startDateStr=self.start,\n",
    "                             endDateStr=self.end,\n",
    "                             liveUpdates=True,\n",
    "                             pad=True)\n",
    "        return z\n",
    "\n",
    "\n",
    "    def getTimeRuleForUpdates(self):\n",
    "        return USTimeRule(startDate = self.start,\n",
    "                        endDate = self.end,\n",
    "                        startTime='9:30',\n",
    "                        endTime='15:30',\n",
    "                        frequency='M', sample='1')\n",
    "\n",
    "    \n",
    "    '''\n",
    "    Return starting capital\n",
    "    '''\n",
    "    def getStartingCapital(self):\n",
    "        return 10000\n",
    "    \n",
    "    '''\n",
    "    This is a way to use any custom features you might have made.\n",
    "    '''\n",
    "\n",
    "    def getCustomFeatures(self):\n",
    "        return {'prediction': TrainingPredictionFeature}\n",
    "\n",
    "    def getInstrumentFeatureConfigDicts(self):\n",
    "\n",
    "        predictionDict = {'featureKey': 'prediction',\n",
    "                                'featureId': 'prediction',\n",
    "                                'params': {}}\n",
    "\n",
    "        # ADD RELEVANT FEATURES HERE\n",
    "        expma5dic = {'featureKey': 'emabasis5',\n",
    "                 'featureId': 'exponential_moving_average',\n",
    "                 'params': {'period': 5,\n",
    "                              'featureName': 'basis'}}\n",
    "        expma10dic = {'featureKey': 'emabasis10',\n",
    "                 'featureId': 'exponential_moving_average',\n",
    "                 'params': {'period': 10,\n",
    "                              'featureName': 'basis'}}                     \n",
    "        expma2dic = {'featureKey': 'emabasis2',\n",
    "                 'featureId': 'exponential_moving_average',\n",
    "                 'params': {'period': 2,\n",
    "                              'featureName': 'basis'}}\n",
    "        mom10dic = {'featureKey': 'mom10',\n",
    "                 'featureId': 'difference',\n",
    "                 'params': {'period': 10,\n",
    "                              'featureName': 'basis'}}\n",
    "        scoreDict = {'featureKey': 'score',\n",
    "                     'featureId': 'score_fv',\n",
    "                     'params': {'predictionKey': 'prediction',\n",
    "                                'price': 'basis'}}\n",
    "        return {INSTRUMENT_TYPE_STOCK: [expma5dic,expma2dic,expma10dic,mom10dic,\n",
    "                                        predictionDict, scoreDict]}\n",
    "\n",
    "    '''\n",
    "    Returns an array of market feature config dictionaries\n",
    "    '''\n",
    "\n",
    "    def getMarketFeatureConfigDicts(self):\n",
    "    # ADD RELEVANT FEATURES HERE\n",
    "        scoreDict = {'featureKey': 'score',\n",
    "                     'featureId': 'score_fv',\n",
    "                     'params': {'featureName': self.getPriceFeatureKey(),\n",
    "                                'instrument_score_feature': 'score'}}\n",
    "        return [scoreDict]\n",
    "\n",
    "\n",
    "    '''\n",
    "    A function that returns your predicted value based on your heuristics.\n",
    "    '''\n",
    "\n",
    "    def getPrediction(self, time, updateNum, instrumentManager):\n",
    "\n",
    "        predictions = pd.Series(0.0, index = self.instrumentIds)\n",
    "\n",
    "        # holder for all the instrument features\n",
    "        lbInstF = instrumentManager.getLookbackInstrumentFeatures()\n",
    "\n",
    "        ### TODO : FILL THIS FUNCTION TO RETURN A BUY (1) or SELL (0) prediction for each stock\n",
    "        ### USE TEMPLATE BELOW AS EXAMPLE\n",
    "\n",
    "        # dataframe for a historical instrument feature (mom10 in this case). The index is the timestamps\n",
    "        # of upto lookback data points. The columns of this dataframe are the stock symbols/instrumentIds.\n",
    "\n",
    "        # Get the last row of the dataframe, the most recent datapoint\n",
    "        mom10 = lbInstF.getFeatureDf('mom10').iloc[-1]\n",
    "        emabasis2 = lbInstF.getFeatureDf('emabasis2').iloc[-1]\n",
    "        emabasis5 = lbInstF.getFeatureDf('emabasis5').iloc[-1]\n",
    "        emabasis10 = lbInstF.getFeatureDf('emabasis10').iloc[-1] \n",
    "        basis = lbInstF.getFeatureDf('basis').iloc[-1]\n",
    "        totalaskvol = (lbInstF.getFeatureDf('stockTotalAskVol').iloc[-1] - lbInstF.getFeatureDf('futureTotalAskVol').iloc[-1])/100000.0\n",
    "        totalbidvol = (lbInstF.getFeatureDf('stockTotalBidVol').iloc[-1] - lbInstF.getFeatureDf('futureTotalBidVol').iloc[-1])/100000.0\n",
    "        \n",
    "        coeff = [ 0.03249183, 0.49675487, -0.22289464, 0.2025182, 0.5080227, -0.21557005, 0.17128488]\n",
    "\n",
    "        predictions['MQK'] = coeff[0] * mom10['MQK'] + coeff[1] * emabasis2['MQK'] +\\\n",
    "                      coeff[2] * emabasis5['MQK'] + coeff[3] * emabasis10['MQK'] +\\\n",
    "                      coeff[4] * basis['MQK'] + coeff[5] * totalaskvol['MQK']+\\\n",
    "                      coeff[6] * totalbidvol['MQK']\n",
    "                    \n",
    "        predictions.fillna(emabasis5,inplace=True)\n",
    "        \n",
    "        print('Current basis: %.3f, predicted basis: %.3f'%(basis['MQK'], predictions['MQK']))\n",
    "        if updateNum>1:\n",
    "            print('Current position: %.0f'%lbInstF.getFeatureDf('position').iloc[-1]['MQK'])\n",
    "\n",
    "        return predictions\n",
    "\n",
    "    '''\n",
    "    Here we convert prediction to intended positions for different instruments.\n",
    "    '''\n",
    "\n",
    "    def getExecutionSystem(self):\n",
    "        return SimpleExecutionSystemWithFairValue(enter_threshold_deviation=0.5, exit_threshold_deviation=0.2, \n",
    "                                                longLimit=250, shortLimit=250, capitalUsageLimit=0.05, \n",
    "                                                enterlotSize=10, exitlotSize=10, \n",
    "                                                limitType='L', price=self.getPriceFeatureKey())\n",
    "\n",
    "    '''\n",
    "    For Backtesting, we use the BacktestingOrderPlacer, which places the order which we want, \n",
    "    and automatically confirms it too.\n",
    "    '''\n",
    "\n",
    "    def getOrderPlacer(self):\n",
    "        return BacktestingOrderPlacer()\n",
    "\n",
    "    '''\n",
    "    Returns the amount of lookback data you want for your calculations.\n",
    "    '''\n",
    "\n",
    "    def getLookbackSize(self):\n",
    "        return 90\n",
    "\n",
    "\n",
    "    def getPriceFeatureKey(self):\n",
    "        return 'basis'\n",
    "\n",
    "\n",
    "    def getMetricsToLogRealtime(self):\n",
    "        # Everything will be logged if left as is\n",
    "        return {\n",
    "            'market': None,\n",
    "            'instruments': None\n",
    "        }\n",
    "\n",
    "\n",
    "class TrainingPredictionFeature(Feature):\n",
    "\n",
    "    @classmethod\n",
    "    def computeForInstrument(cls, updateNum, time, featureParams, featureKey, instrumentManager):\n",
    "        t = MyTradingParams()\n",
    "        return t.getPrediction(time, updateNum, instrumentManager)"
   ]
  },
  {
   "cell_type": "code",
   "execution_count": 33,
   "metadata": {},
   "outputs": [
    {
     "name": "stdout",
     "output_type": "stream",
     "text": [
      "Processing data for stock: MQK\n",
      "Logging all the available market metrics in tensorboard\n",
      "Logging all the available instrument metrics in tensorboard\n",
      "2017-01-06 09:30:00\n",
      "Current basis: 3.685, predicted basis: 3.651\n",
      "2017-01-06 09:31:00\n",
      "Current basis: 3.815, predicted basis: 3.724\n",
      "Current position: 0\n",
      "2017-01-06 09:32:00\n",
      "Current basis: 3.812, predicted basis: 3.723\n",
      "Current position: 0\n",
      "2017-01-06 09:33:00\n",
      "Current basis: 3.661, predicted basis: 3.641\n",
      "Current position: 0\n",
      "2017-01-06 09:34:00\n",
      "Current basis: 3.811, predicted basis: 3.728\n",
      "Current position: 0\n",
      "2017-01-06 09:35:00\n",
      "Current basis: 3.987, predicted basis: 3.836\n",
      "Current position: 0\n",
      "2017-01-06 09:36:00\n",
      "Current basis: 4.011, predicted basis: 3.891\n",
      "Current position: 0\n",
      "2017-01-06 09:37:00\n",
      "Current basis: 4.041, predicted basis: 3.928\n",
      "Current position: 0\n",
      "2017-01-06 09:38:00\n",
      "Current basis: 4.397, predicted basis: 4.162\n",
      "Current position: 0\n",
      "2017-01-06 09:39:00\n",
      "Current basis: 4.343, predicted basis: 4.187\n",
      "Current position: 0\n",
      "2017-01-06 09:40:00\n",
      "Current basis: 4.269, predicted basis: 4.160\n",
      "Current position: 0\n",
      "2017-01-06 09:41:00\n",
      "Current basis: 4.445, predicted basis: 4.292\n",
      "Current position: 0\n",
      "2017-01-06 09:42:00\n",
      "Current basis: 4.418, predicted basis: 4.295\n",
      "Current position: 0\n",
      "2017-01-06 09:43:00\n",
      "Current basis: 4.216, predicted basis: 4.161\n",
      "Current position: 0\n",
      "2017-01-06 09:44:00\n",
      "Current basis: 4.438, predicted basis: 4.309\n",
      "Current position: 0\n",
      "2017-01-06 09:45:00\n",
      "Current basis: 4.361, predicted basis: 4.267\n",
      "Current position: 0\n",
      "2017-01-06 09:46:00\n",
      "Current basis: 4.391, predicted basis: 4.291\n",
      "Current position: 0\n",
      "2017-01-06 09:47:00\n",
      "Current basis: 4.291, predicted basis: 4.220\n",
      "Current position: 0\n",
      "2017-01-06 09:48:00\n",
      "Current basis: 4.516, predicted basis: 4.369\n",
      "Current position: 0\n",
      "2017-01-06 09:49:00\n",
      "Current basis: 4.393, predicted basis: 4.301\n",
      "Current position: 0\n",
      "2017-01-06 09:50:00\n",
      "Current basis: 4.270, predicted basis: 4.209\n",
      "Current position: 0\n",
      "2017-01-06 09:51:00\n",
      "Current basis: 4.021, predicted basis: 4.047\n",
      "Current position: 0\n",
      "2017-01-06 09:52:00\n",
      "Current basis: 4.096, predicted basis: 4.062\n",
      "Current position: 0\n",
      "2017-01-06 09:53:00\n",
      "Current basis: 3.846, predicted basis: 3.883\n",
      "Current position: 0\n",
      "2017-01-06 09:54:00\n",
      "Current basis: 3.845, predicted basis: 3.856\n",
      "Current position: 0\n",
      "2017-01-06 09:55:00\n",
      "Current basis: 3.820, predicted basis: 3.818\n",
      "Current position: 0\n",
      "2017-01-06 09:56:00\n",
      "Current basis: 3.770, predicted basis: 3.774\n",
      "Current position: 0\n",
      "2017-01-06 09:57:00\n",
      "Current basis: 3.916, predicted basis: 3.836\n",
      "Current position: 0\n",
      "2017-01-06 09:58:00\n",
      "Current basis: 4.111, predicted basis: 3.966\n",
      "Current position: 0\n",
      "2017-01-06 09:59:00\n",
      "Current basis: 3.761, predicted basis: 3.772\n",
      "Current position: 0\n",
      "2017-01-06 10:00:00\n",
      "Current basis: 4.008, predicted basis: 3.921\n",
      "Current position: 0\n",
      "2017-01-06 10:01:00\n",
      "Current basis: 4.157, predicted basis: 4.031\n",
      "Current position: 0\n",
      "2017-01-06 10:02:00\n",
      "Current basis: 4.006, predicted basis: 3.959\n",
      "Current position: 0\n",
      "2017-01-06 10:03:00\n",
      "Current basis: 4.131, predicted basis: 4.045\n",
      "Current position: 0\n",
      "2017-01-06 10:04:00\n",
      "Current basis: 4.081, predicted basis: 4.029\n",
      "Current position: 0\n",
      "2017-01-06 10:05:00\n",
      "Current basis: 4.157, predicted basis: 4.080\n",
      "Current position: 0\n",
      "2017-01-06 10:06:00\n",
      "Current basis: 3.934, predicted basis: 3.926\n",
      "Current position: 0\n",
      "2017-01-06 10:07:00\n",
      "Current basis: 4.061, predicted basis: 3.989\n",
      "Current position: 0\n",
      "2017-01-06 10:08:00\n",
      "Current basis: 4.060, predicted basis: 4.012\n",
      "Current position: 0\n",
      "2017-01-06 10:09:00\n",
      "Current basis: 4.114, predicted basis: 4.033\n",
      "Current position: 0\n",
      "2017-01-06 10:10:00\n",
      "Current basis: 4.160, predicted basis: 4.068\n",
      "Current position: 0\n",
      "2017-01-06 10:11:00\n",
      "Current basis: 4.238, predicted basis: 4.129\n",
      "Current position: 0\n",
      "2017-01-06 10:12:00\n",
      "Current basis: 4.336, predicted basis: 4.212\n",
      "Current position: 0\n",
      "2017-01-06 10:13:00\n",
      "Current basis: 4.039, predicted basis: 4.035\n",
      "Current position: 0\n",
      "2017-01-06 10:14:00\n",
      "Current basis: 4.137, predicted basis: 4.079\n",
      "Current position: 0\n",
      "2017-01-06 10:15:00\n",
      "Current basis: 4.114, predicted basis: 4.065\n",
      "Current position: 0\n",
      "2017-01-06 10:16:00\n",
      "Current basis: 4.040, predicted basis: 4.016\n",
      "Current position: 0\n",
      "2017-01-06 10:17:00\n",
      "Current basis: 4.115, predicted basis: 4.055\n",
      "Current position: 0\n",
      "2017-01-06 10:18:00\n",
      "Current basis: 4.165, predicted basis: 4.086\n",
      "Current position: 0\n",
      "2017-01-06 10:19:00\n",
      "Current basis: 4.239, predicted basis: 4.116\n",
      "Current position: 0\n",
      "2017-01-06 10:20:00\n",
      "Current basis: 3.964, predicted basis: 3.960\n",
      "Current position: 0\n",
      "2017-01-06 10:21:00\n",
      "Current basis: 3.813, predicted basis: 3.854\n",
      "Current position: 0\n",
      "2017-01-06 10:22:00\n",
      "Current basis: 3.888, predicted basis: 3.882\n",
      "Current position: 0\n",
      "2017-01-06 10:23:00\n",
      "Current basis: 3.763, predicted basis: 3.781\n",
      "Current position: 0\n",
      "2017-01-06 10:24:00\n",
      "Current basis: 3.712, predicted basis: 3.723\n",
      "Current position: 0\n",
      "2017-01-06 10:25:00\n",
      "Current basis: 3.886, predicted basis: 3.829\n",
      "Current position: 0\n"
     ]
    },
    {
     "ename": "",
     "evalue": "",
     "output_type": "error",
     "traceback": [
      "\u001b[1;31mFailed to interrupt the Kernel. \n",
      "No debugger available, can not send 'disconnect'. \n",
      "View Jupyter <a href='command:jupyter.viewOutput'>log</a> for further details."
     ]
    }
   ],
   "source": [
    "if updateCheck():\n",
    "        print('Your version of the auquan toolbox package is old. Please update by running the following command:')\n",
    "        print('pip install -U auquan_toolbox')\n",
    "else:\n",
    "    tsParams = MyTradingParams()\n",
    "#     import pdb;pdb.set_trace()\n",
    "    tradingSystem = TradingSystem(tsParams)\n",
    "    \n",
    "    results = tradingSystem.startTrading(onlyAnalyze=False, shouldPlot=False, makeInstrumentCsvs=False)\n",
    "    # Set onlyAnalyze to True to quickly generate csv files with all the features\n",
    "    # Set onlyAnalyze to False to run a full backtest\n",
    "    # Set makeInstrumentCsvs to False to not make instrument specific csvs in runLogs. \n",
    "    # This improves the performance BY A LOT\n",
    "        "
   ]
  },
  {
   "cell_type": "markdown",
   "metadata": {},
   "source": [
    "You can view the results of this backtest below. The toolbox shows you the Mean squared error (`score`), the pnl from trading the strategy as well as other metrics below"
   ]
  },
  {
   "cell_type": "code",
   "execution_count": 32,
   "metadata": {},
   "outputs": [
    {
     "data": {
      "text/plain": [
       "{'instrument_names': ['MQK'],\n",
       " 'instrument_stats': [{'pnl': {'MQK': 0.0},\n",
       "   'score': {'MQK': 0.07316344660879642}}],\n",
       " 'pnl': 0.0,\n",
       " 'trading_days': 3,\n",
       " 'score': 0.07316344660879642,\n",
       " 'count_loss': 0,\n",
       " 'capital': 10000.0,\n",
       " 'portfolio_value': 10000.0,\n",
       " 'total_profit': 0,\n",
       " 'count_profit': 0,\n",
       " 'variance': 0.0,\n",
       " 'capitalUsage': 0,\n",
       " 'maxDrawdown': 0,\n",
       " 'maxPortfolioValue': 10000.0,\n",
       " 'total_loss': 0}"
      ]
     },
     "execution_count": 32,
     "metadata": {},
     "output_type": "execute_result"
    }
   ],
   "source": [
    "results"
   ]
  },
  {
   "cell_type": "markdown",
   "metadata": {},
   "source": [
    "As expected, there is a loss in performance on test data, the new Mean squared error is 0.07."
   ]
  },
  {
   "cell_type": "markdown",
   "metadata": {},
   "source": [
    "You can also view live plots of how the features/prediction/pnl evolves in realtime in tensorboard. Simply type this in your terminal (from the same folder where you have this notebook)\n",
    "\n",
    "`tensorboard --logdir=tb_logs/`"
   ]
  },
  {
   "cell_type": "markdown",
   "metadata": {},
   "source": [
    "It is important to remember that if you don’t like the results of your backtest on test data, discard the model and start again. DO NOT go back and re-optimize your model, this will lead to over fitting! (Also recommend to create a new test data set, since this one is now tainted; in discarding a model, we implicitly know something about the dataset)."
   ]
  }
 ],
 "metadata": {
  "interpreter": {
   "hash": "3d6c8a90009f980302c012bd64503e966cbb5885067e3c60305a8569cc587575"
  },
  "kernelspec": {
   "display_name": "Python 3.7.4 64-bit",
   "language": "python",
   "name": "python3"
  },
  "language_info": {
   "codemirror_mode": {
    "name": "ipython",
    "version": 3
   },
   "file_extension": ".py",
   "mimetype": "text/x-python",
   "name": "python",
   "nbconvert_exporter": "python",
   "pygments_lexer": "ipython3",
   "version": "3.7.4"
  }
 },
 "nbformat": 4,
 "nbformat_minor": 2
}
